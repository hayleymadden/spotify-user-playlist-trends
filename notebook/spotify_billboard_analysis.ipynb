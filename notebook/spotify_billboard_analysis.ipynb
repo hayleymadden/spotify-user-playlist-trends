{
 "cells": [
  {
   "cell_type": "markdown",
   "id": "f8b863ff",
   "metadata": {},
   "source": [
    "EXPLORATION</br>\n",
    "Bilboard Exploration: </br>\n",
    "Billboard data is sourced from the billboard web scraping notebook in this repository. See billboard_data_scrape.ipynb before using this notebook.\n",
    "1. How many songs reached the number 1 position during the sample period </br>\n",
    "   Will looking at only #1 songs be useful for analysis, or should we look at songs that entered the top 5/10? </br>\n",
    "2. How many weeks did each of those songs appear on the charts? </br>\n",
    "\n",
    "Spoitfy Exploration: </br>\n",
    "Spotify data is sourced from the Spotify Million Playlist Dataset. </br>  \n",
    "Download the data: https://www.aicrowd.com/challenges/spotify-million-playlist-dataset-challenge </br> \n",
    "Save it to the file path: ``spotify-user-playlist-trends\\data\\Spotify`` </br>\n",
    "\n",
    "Preparation: </br>\n",
    "1. Spotify data cleaning: Of 1,000,000 playlists, how many were updated three or fewer times? </br>\n",
    "2. Artist Name, Track Title of all #1 songs </br>\n",
    "3. Match Artist Names and Track Titles to Spotify IDs </br>\n",
    "4. Iterate over Spotify data to identify playlists that have one or more #1 tracks in the playlist </br>\n",
    "5. Isolate relevant song lines and write to a new Spotify dataframe/file </br>\n",
    "6. Of x playlists with 3 or fewer edits, how many had a Billboard Charting song on it? </br>\n",
    "\n",
    "Analysis: </br>\n",
    "1. Which #1 songs were most present in playlists? Are there any #1 songs that were not on any playlists? </br>\n",
    "2. Do the top 10 performing billboard songs appear most on the user playlists? </br>\n",
    "3. For the 10 number one songs that have the most playlist adds, what was the playlist activity in relation to chart activity?</br>"
   ]
  },
  {
   "cell_type": "code",
   "execution_count": null,
   "id": "45c116b2",
   "metadata": {},
   "outputs": [],
   "source": [
    "import json\n",
    "import pandas as pd\n",
    "import os\n",
    "import numpy as np\n",
    "from datetime import date, timedelta"
   ]
  },
  {
   "cell_type": "markdown",
   "id": "9e9147e0",
   "metadata": {},
   "source": [
    "### Billboard Exploration"
   ]
  },
  {
   "cell_type": "code",
   "execution_count": null,
   "id": "4e23aeba",
   "metadata": {},
   "outputs": [],
   "source": [
    "# How many songs reached the number 1 position during the sample period?\n",
    "# Will looking at only #1 songs be useful for analysis, or should we look at songs that entered the top 5/10? all?\n",
    "billboard = pd.read_csv('../data/Billboard/billboard_chart_data.csv')"
   ]
  },
  {
   "cell_type": "code",
   "execution_count": null,
   "id": "2272cf19",
   "metadata": {},
   "outputs": [],
   "source": [
    "billboard.info()"
   ]
  },
  {
   "cell_type": "code",
   "execution_count": null,
   "id": "dadb9adb",
   "metadata": {},
   "outputs": [],
   "source": [
    "billboard['artist_title'] = billboard.artist+ '-' + billboard.title"
   ]
  },
  {
   "cell_type": "code",
   "execution_count": null,
   "id": "1a7b03f2",
   "metadata": {
    "scrolled": true
   },
   "outputs": [],
   "source": [
    "# total number of songs that entered the billboard top 100 during the sample period\n",
    "billboard.artist_title.nunique()"
   ]
  },
  {
   "cell_type": "code",
   "execution_count": null,
   "id": "d53c7cdd",
   "metadata": {},
   "outputs": [],
   "source": [
    "# all number 1 position during the sample period\n",
    "no1 = billboard[billboard.rank_current_week == 1]\n",
    "no1.to_csv('../data/Billboard/number_1_by_week.csv', index=False)"
   ]
  },
  {
   "cell_type": "code",
   "execution_count": null,
   "id": "83cb32fc",
   "metadata": {},
   "outputs": [],
   "source": [
    "#df for #1 song and artist by week\n",
    "no1_unique = no1[['week_of','artist','title']].drop_duplicates(subset=['artist','title'], keep='first').reset_index()\n",
    "\n",
    "#trimming artist and song names to better suite key format\n",
    "no1_unique[['base_artist','expand']] = no1_unique['artist'].str.split(' Featuring ', expand=True)\n",
    "no1_unique['base_artist'] = no1_unique['base_artist'].str.lower()\n",
    "\n",
    "#manually updating artist names and titles that do not match across spotify and billboard\n",
    "no1_unique['base_artist'] = no1_unique['base_artist'].replace({'ke$ha':'kesha', 'far*east movement':'far east movement','luis fonsi & daddy yankee':'luis fonsi'})\n",
    "no1_unique['title'] = no1_unique['title'].str.lower()\n",
    "no1_unique['title'] = no1_unique['title'].replace('uptown funk!','uptown funk')\n",
    "\n",
    "#create a unique identifier that can tie billboard and spotify data\n",
    "no1_unique['key'] = no1_unique['base_artist'] + '_' + no1_unique['title'].str.lower().str.split(\" \\(\").str[0]"
   ]
  },
  {
   "cell_type": "code",
   "execution_count": null,
   "id": "93119a62",
   "metadata": {
    "scrolled": true
   },
   "outputs": [],
   "source": [
    "billboard_key = no1_unique['key'].str.lower().tolist()\n",
    "billboard_key"
   ]
  },
  {
   "cell_type": "code",
   "execution_count": null,
   "id": "9af0fc78",
   "metadata": {
    "scrolled": true
   },
   "outputs": [],
   "source": [
    "#number of songs that went number one\n",
    "len(billboard_key)"
   ]
  },
  {
   "cell_type": "code",
   "execution_count": null,
   "id": "45dc786c",
   "metadata": {},
   "outputs": [],
   "source": [
    "artist_list = no1_unique.base_artist.unique().tolist()"
   ]
  },
  {
   "cell_type": "code",
   "execution_count": null,
   "id": "05cc9a61",
   "metadata": {},
   "outputs": [],
   "source": [
    "title_list = []\n",
    "base_list = no1_unique.title.unique().tolist()\n",
    "\n",
    "for x in base_list:\n",
    "    x = x.split(' (')\n",
    "    x = x[0]\n",
    "    title_list.append(x)"
   ]
  },
  {
   "cell_type": "code",
   "execution_count": null,
   "id": "ea50a383",
   "metadata": {},
   "outputs": [],
   "source": [
    "# number of unique songs that reached #1\n",
    "len(title_list)"
   ]
  },
  {
   "cell_type": "code",
   "execution_count": null,
   "id": "5990983e",
   "metadata": {},
   "outputs": [],
   "source": [
    "# all songs that reached at least the number 5 position during the sample period\n",
    "top5 = billboard[billboard.rank_current_week <= 5]\n",
    "top5.artist_title.nunique()"
   ]
  },
  {
   "cell_type": "code",
   "execution_count": null,
   "id": "7c9a95ea",
   "metadata": {},
   "outputs": [],
   "source": [
    "# all songs that reached at least the number 10 position during the sample period\n",
    "top10 = billboard[billboard.rank_current_week <= 10]\n",
    "top10.artist_title.nunique()"
   ]
  },
  {
   "cell_type": "code",
   "execution_count": null,
   "id": "7847dbd9",
   "metadata": {},
   "outputs": [],
   "source": [
    "#How many weeks did each of those songs appear on the charts?\n",
    "week_counts = pd.DataFrame(billboard.groupby(['artist','title'])[['artist','title']].value_counts())\n",
    "week_counts.sort_values('count', ascending=False).head(10)"
   ]
  },
  {
   "cell_type": "markdown",
   "id": "f5777019",
   "metadata": {},
   "source": [
    "### Spotify Exploration"
   ]
  },
  {
   "cell_type": "code",
   "execution_count": null,
   "id": "9ea09f80",
   "metadata": {},
   "outputs": [],
   "source": [
    "#Of 1,000,000 playlists, how many were updated three or fewer times? "
   ]
  },
  {
   "cell_type": "code",
   "execution_count": null,
   "id": "135ff3f3",
   "metadata": {},
   "outputs": [],
   "source": [
    "#file names - create list of flie strings to leverage in loops\n",
    "file_list = []                                                    #empty list for strings to land\n",
    "for file in os.listdir('..\\data\\Spotify\\data'):                   #for loop to locate each file in source folder\n",
    "    file_name = '..\\\\data\\\\Spotify\\\\data\\\\' + os.fsdecode(file)   #create a file string name to be read in\n",
    "    file_list.append(file_name)                                   #add name to list\n",
    "file_list                                                         #print resulting list"
   ]
  },
  {
   "cell_type": "code",
   "execution_count": null,
   "id": "fd5c35f1",
   "metadata": {},
   "outputs": [],
   "source": [
    "# get playlist IDs where the playlists were updated three or fewer times\n",
    "pid_list = []\n",
    "for file in file_list: #for loop to iterate through files\n",
    "    with open(file) as data_file:\n",
    "        d = json.load(data_file)\n",
    "        playlists = pd.json_normalize(d['playlists'])\n",
    "        edit_reqs = playlists[playlists.num_edits <= 3]\n",
    "        pid_list.append(edit_reqs.pid.unique())"
   ]
  },
  {
   "cell_type": "code",
   "execution_count": null,
   "id": "1f8eb40e",
   "metadata": {},
   "outputs": [],
   "source": [
    "#list of pid arrays to single list of pids\n",
    "pid_list = np.concatenate(pid_list).ravel().tolist()\n"
   ]
  },
  {
   "cell_type": "code",
   "execution_count": null,
   "id": "78b1c061",
   "metadata": {},
   "outputs": [],
   "source": [
    "#count of playlists with three or fewer edits\n",
    "len(pid_list)"
   ]
  },
  {
   "cell_type": "code",
   "execution_count": null,
   "id": "1e911b82",
   "metadata": {},
   "outputs": [],
   "source": [
    "#percent of playlists from Spotify's million dataset\n",
    "round(len(pid_list) / 1000000 * 100,2)"
   ]
  },
  {
   "cell_type": "markdown",
   "id": "7caf65a1",
   "metadata": {},
   "source": [
    "### Preparation"
   ]
  },
  {
   "cell_type": "code",
   "execution_count": null,
   "id": "b923951b",
   "metadata": {
    "scrolled": true
   },
   "outputs": [],
   "source": [
    "# Artist Name, Track Title of all #1 songs\n",
    "no1_unique[['artist','title']]"
   ]
  },
  {
   "cell_type": "markdown",
   "id": "6055cf59",
   "metadata": {},
   "source": [
    "#### Spotify Million Playlist Processing need only be completed once. Comment out cells below after program has run and csv has exported.\n",
    "First cell creates an empty dataframe. </br>\n",
    "\n",
    "Second cell is a loop that iterates through Spotify Million Playlist Dataset.  The result: </br>\n",
    "<li> Returns only playlists with three or fewer edits </li>\n",
    "<li> Returns playlist and track information for instances in which a track that reached No. 1 on the Billboard Charts was added to a user playlist during the sample period </li>\n",
    "Note the cells above must be executed to generate a list of PIDs (playlist identifiers) and tracks that hit No. 1 (billboard_key)\n",
    "\n",
    "Third cell checks for number of unique tracks in the results; 79 songs reached number one during the period, so the cell should return 79.\n",
    "\n",
    "Fourth cell checks the results and prints the title of any track that hit No. 1 on Billboard, but had no occurrences in the Spotify dataframe.\n",
    "\n",
    "Fifth cell prints results to a .csv\n"
   ]
  },
  {
   "cell_type": "markdown",
   "id": "6d474d34",
   "metadata": {},
   "source": [
    "Iterate over Spotify data to identify playlists that have one or more #1 tracks in the playlist </br>\n",
    "Isolate relevant song lines and write to a new Spotify dataframe/file"
   ]
  },
  {
   "cell_type": "code",
   "execution_count": null,
   "id": "597cf727",
   "metadata": {},
   "outputs": [],
   "source": [
    "#intiate empty dataframe\n",
    "top_song_playlists = pd.DataFrame()"
   ]
  },
  {
   "cell_type": "code",
   "execution_count": null,
   "id": "4d55b126",
   "metadata": {},
   "outputs": [],
   "source": [
    "hold = []\n",
    "for file in file_list: \n",
    "    with open(file) as data_file:\n",
    "        d = json.load(data_file)\n",
    "        playlists = pd.json_normalize(d['playlists'])\n",
    "        playlists = playlists[playlists.pid.isin(pid_list)]\n",
    "        tracks = pd.json_normalize(d, record_path=['playlists','tracks'],meta=[['playlists','pid']])\n",
    "        tracks = tracks[tracks['playlists.pid'].isin(pid_list)]\n",
    "        tracks['artist_name'] = tracks['artist_name'].str.lower()\n",
    "        tracks['artist_name'] = tracks['artist_name'].str.split(',').str[0]\n",
    "        tracks['artist_name'] = tracks['artist_name'].str.split(\" \\(\").str[0]\n",
    "        tracks['track_name'] = tracks['track_name'].str.lower()\n",
    "        tracks['track_name'] = tracks['track_name'].str.split(\" \\(\").str[0]\n",
    "        tracks['track_name'] = tracks['track_name'].str.split(' -').str[0]\n",
    "        tracks['key'] = tracks['artist_name'] + '_' + tracks['track_name'].str.lower()\n",
    "        tracks = tracks[tracks['key'].isin(billboard_key)]\n",
    "        df = tracks.merge(playlists, how='inner', left_on='playlists.pid', right_on='pid')\n",
    "        df = df.drop(columns=['tracks','description','playlists.pid'])\n",
    "        df.modified_at = pd.to_datetime(df.modified_at, unit = 's')\n",
    "        hold.append(df)\n",
    "        print(f'file {file} complete')\n",
    "        \n",
    "top_song_playlists = pd.concat(hold)"
   ]
  },
  {
   "cell_type": "code",
   "execution_count": null,
   "id": "6cb178a4",
   "metadata": {},
   "outputs": [],
   "source": [
    "#check to see if all #1 songs are present in the result dataframe\n",
    "spotify_tracks = top_song_playlists.track_name.unique().tolist()\n",
    "len(spotify_tracks)"
   ]
  },
  {
   "cell_type": "code",
   "execution_count": null,
   "id": "1267f98b",
   "metadata": {},
   "outputs": [],
   "source": [
    "tracks.key.unique()"
   ]
  },
  {
   "cell_type": "code",
   "execution_count": null,
   "id": "d8754083",
   "metadata": {},
   "outputs": [],
   "source": [
    "spotify_tracks.head()"
   ]
  },
  {
   "cell_type": "code",
   "execution_count": null,
   "id": "67d6ddd4",
   "metadata": {},
   "outputs": [],
   "source": [
    "#check songs present in the billboard top songs list that aren't present in the spotify result set\n",
    "for x in title_list:\n",
    "    if x.lower() in spotify_tracks:\n",
    "        pass\n",
    "    else:\n",
    "        print(f'{x} not found')"
   ]
  },
  {
   "cell_type": "code",
   "execution_count": null,
   "id": "73135ab5",
   "metadata": {},
   "outputs": [],
   "source": [
    "#print results\n",
    "top_song_playlists.to_csv('../data/Spotify/top_song_playlists_tracks.csv')"
   ]
  },
  {
   "cell_type": "markdown",
   "id": "7622a51c",
   "metadata": {},
   "source": [
    "### #1 Song Analysis"
   ]
  },
  {
   "cell_type": "code",
   "execution_count": null,
   "id": "c29aaaf2",
   "metadata": {},
   "outputs": [],
   "source": [
    "#read in spotify results csv:\n",
    "spotify = pd.read_csv('../data/Spotify/top_song_playlists_tracks.csv')\n",
    "spotify.modified_at = pd.to_datetime(spotify.modified_at)"
   ]
  },
  {
   "cell_type": "code",
   "execution_count": null,
   "id": "93d78078",
   "metadata": {
    "scrolled": false
   },
   "outputs": [],
   "source": [
    "#convert all billboard data to compatible format; mimics structure for key creation above\n",
    "billboard_data = billboard\n",
    "billboard_data[['base_artist','expand']] = billboard_data['artist'].str.split(' Featuring ', expand=True)\n",
    "billboard_data['base_artist'] = billboard_data['base_artist'].str.lower()\n",
    "billboard_data['base_artist'] = billboard_data['base_artist'].replace({'ke$ha':'kesha', 'far*east movement':'far east movement','luis fonsi & daddy yankee':'luis fonsi'})\n",
    "billboard_data['title'] =billboard_data['title'].replace('Uptown Funk!','uptown funk')\n",
    "billboard_data['title'] =billboard_data['title'].str.lower()\n",
    "billboard_data['key'] = billboard_data['base_artist'] + '_' + billboard_data['title'].str.lower().str.split(\" \\(\").str[0]\n",
    "\n",
    "billboard_data = billboard_data[billboard_data.key.isin(billboard_key)]"
   ]
  },
  {
   "cell_type": "code",
   "execution_count": null,
   "id": "9c722a47",
   "metadata": {},
   "outputs": [],
   "source": [
    "# Of x playlists with 3 or fewer edits, how many had a Billboard Charting song on it?\n",
    "print('Total playlist count, original dataset: 1000000')\n",
    "print('Total playlist count, three or fewer edits: ' + str(len(pid_list)))\n",
    "print('Total playlists with one or more Billboard No. 1 song(s): ' + str(spotify.pid.nunique()))"
   ]
  },
  {
   "cell_type": "code",
   "execution_count": null,
   "id": "a2977fc7",
   "metadata": {},
   "outputs": [],
   "source": [
    "#Which artists had the most number one songs on the billboard charts?\n",
    "billboard_data.groupby(['base_artist'],group_keys=True)[['title']].nunique().sort_values('title', ascending=False) #.head(20)"
   ]
  },
  {
   "cell_type": "code",
   "execution_count": null,
   "id": "21c3bfbe",
   "metadata": {},
   "outputs": [],
   "source": [
    "#Which artists had the most #1 songs in playlists?\n",
    "spotify.groupby(['artist_name'],group_keys=True)[['track_name']].nunique().sort_values('track_name', ascending=False)"
   ]
  },
  {
   "cell_type": "code",
   "execution_count": null,
   "id": "b7909214",
   "metadata": {
    "scrolled": true
   },
   "outputs": [],
   "source": [
    "#Which songs stayed #1 longest?\n",
    "weeks_on_chart_rank = billboard_data.groupby(['base_artist', 'title', 'key'],group_keys=True)[['week_of']].nunique().sort_values('week_of', ascending=False).reset_index()\n",
    "weeks_on_chart_rank"
   ]
  },
  {
   "cell_type": "code",
   "execution_count": null,
   "id": "b649de82",
   "metadata": {},
   "outputs": [],
   "source": [
    "#Which #1 songs were most present in playlists? \n",
    "s_track_count = spotify.groupby(['artist_name', 'track_name'],group_keys=True)[['pid']].count().sort_values('pid', ascending=False).reset_index()\n",
    "s_track_count\n",
    "\n",
    "#Are there any #1 songs that were not on any playlists?\n",
    "#No - our count of 90 unique titles shows this."
   ]
  },
  {
   "cell_type": "code",
   "execution_count": null,
   "id": "14106844",
   "metadata": {
    "scrolled": true
   },
   "outputs": [],
   "source": [
    "#10 Top Performing Billboard songs\n",
    "b_top10 = weeks_on_chart_rank[['base_artist','title','key']].head(10)\n",
    "b_top10"
   ]
  },
  {
   "cell_type": "code",
   "execution_count": null,
   "id": "d5b095cc",
   "metadata": {},
   "outputs": [],
   "source": [
    "#Do the top 10 performing billboard songs appear most on the user playlists?\n",
    "#10 Top Performing (most playlisted) songs\n",
    "s_top10 = spotify.groupby(['artist_name', 'track_name','key'],group_keys=True)[['pid']].count().sort_values('pid', ascending=False).reset_index().head(10)\n",
    "s_top10"
   ]
  },
  {
   "cell_type": "code",
   "execution_count": null,
   "id": "b0a2ad05",
   "metadata": {},
   "outputs": [],
   "source": [
    "b_toplist = b_top10.title.str.lower().tolist()\n",
    "s_toplist = s_top10.track_name.str.lower().tolist()\n",
    "\n",
    "b_keys = b_top10.key.str.lower().tolist()\n",
    "s_keys = s_top10.key.str.lower().tolist()"
   ]
  },
  {
   "cell_type": "code",
   "execution_count": null,
   "id": "b9aadb3b",
   "metadata": {},
   "outputs": [],
   "source": [
    "#which songs were top performers on billboard and spotify?\n",
    "def both(b_list, s_list):\n",
    "    return [x for x in b_list if x in s_list]\n",
    "\n",
    "both(b_toplist, s_toplist)"
   ]
  },
  {
   "cell_type": "code",
   "execution_count": null,
   "id": "5deb97a1",
   "metadata": {},
   "outputs": [],
   "source": [
    "#what are the titles of the top performing songs across billboard and spotify?\n",
    "top_song_list = list(set(b_toplist + s_toplist))\n",
    "top_song_keys = list(set(b_keys + s_keys))"
   ]
  },
  {
   "cell_type": "code",
   "execution_count": null,
   "id": "ddb63aa7",
   "metadata": {},
   "outputs": [],
   "source": [
    "len(top_song_list)"
   ]
  },
  {
   "cell_type": "markdown",
   "id": "442ff825",
   "metadata": {},
   "source": [
    "### Visualization Exports"
   ]
  },
  {
   "cell_type": "code",
   "execution_count": null,
   "id": "f1e12c89",
   "metadata": {},
   "outputs": [],
   "source": [
    "#billboard data export - top 10 on billboard by weeks at number 1\n",
    "billboard_data[billboard_data.key.isin(b_keys)].to_csv('../viz exports/billboard_top_performers.csv', index=False)"
   ]
  },
  {
   "cell_type": "code",
   "execution_count": null,
   "id": "175a4cef",
   "metadata": {},
   "outputs": [],
   "source": [
    "#spotify data export - top 10 on spotify by playlist count\n",
    "spotify[spotify.key.isin(s_keys)].to_csv('../viz exports/spotify_top_perfomrers.csv', index=False)"
   ]
  },
  {
   "cell_type": "code",
   "execution_count": null,
   "id": "5ccb1341",
   "metadata": {},
   "outputs": [],
   "source": [
    "#billboard data export - all 18 top performers across spotify and billboard\n",
    "billboard18 =  billboard_data[billboard_data.key.isin(top_song_keys)]\n",
    "billboard18.to_csv('../viz exports/all_top_performers_billboard.csv', index=False)"
   ]
  },
  {
   "cell_type": "code",
   "execution_count": null,
   "id": "9ac54ba9",
   "metadata": {},
   "outputs": [],
   "source": [
    "#spotify data export - all 18 top performers across spotify and billboard\n",
    "spotify18 = spotify[spotify.key.isin(top_song_keys)] "
   ]
  },
  {
   "cell_type": "code",
   "execution_count": null,
   "id": "5c6f0a04",
   "metadata": {},
   "outputs": [],
   "source": [
    "# Billboard data is grouped by week and spotify playlist updates are on a given day.  Need to aggregate spotify updates by week.\n",
    "# Append the spotify dataframe with a \"week of\" grouping to sum playlist modifications over the billboard reporting week.\n",
    "\n",
    "#function - creates a date string for every 7 days from start date, sourced from billboard notebook\n",
    "def daterange(start_date, end_date):\n",
    "    for n in range(0, int((end_date - start_date).days) +1, 7):\n",
    "        yield start_date + timedelta(n)\n",
    "        \n",
    "#initiation - list\n",
    "billboard_weeks=[]\n",
    "\n",
    "# intitiation - parameters\n",
    "start = date(2010,1,9)\n",
    "end = date(2017,12,30)\n",
    "\n",
    "# append loop\n",
    "for dt in daterange(start, end):\n",
    "     billboard_weeks.append(str(dt.strftime('%Y-%m-%d')))"
   ]
  },
  {
   "cell_type": "code",
   "execution_count": null,
   "id": "a9d7a273",
   "metadata": {},
   "outputs": [],
   "source": [
    "billboard_weeks"
   ]
  },
  {
   "cell_type": "code",
   "execution_count": null,
   "id": "21ff6bce",
   "metadata": {
    "scrolled": false
   },
   "outputs": [],
   "source": [
    "billboard_week_df = pd.DataFrame(billboard_weeks, columns=[\"week_of\"])\n",
    "billboard_week_df[\"week_of\"] = pd.to_datetime(billboard_week_df[\"week_of\"])\n",
    "billboard_week_df[\"Int Week\"] = billboard_week_df[\"week_of\"].apply(lambda x: x.weekofyear)\n",
    "billboard_week_df[\"Int Year\"] = billboard_week_df[\"week_of\"].apply(lambda x: x.year)\n",
    "\n",
    "spotify18[\"modified_at\"] = pd.to_datetime(spotify18[\"modified_at\"])\n",
    "spotify18[\"Int Week\"] = spotify18[\"modified_at\"].apply(lambda x: x.weekofyear)\n",
    "spotify18[\"Int Year\"] = spotify18[\"modified_at\"].apply(lambda x: x.year)\n",
    "spotify18[[\"modified_at\", \"Int Week\", \"Int Year\"]]\n",
    "\n",
    "spotify18 = spotify18.merge(billboard_week_df, on=[\"Int Week\", \"Int Year\"], how=\"left\")"
   ]
  },
  {
   "cell_type": "code",
   "execution_count": null,
   "id": "795bfd3f",
   "metadata": {},
   "outputs": [],
   "source": [
    "spotify18.to_csv('../viz exports/all_top_performers_spotify.csv')"
   ]
  },
  {
   "cell_type": "code",
   "execution_count": null,
   "id": "313b5968",
   "metadata": {},
   "outputs": [],
   "source": [
    "#billboard data read in - all top perfomers\n",
    "topspotify = pd.read_csv('../viz exports/all_top_performers_spotify.csv')\n",
    "topspotify.modified_at = pd.to_datetime(topspotify.modified_at)"
   ]
  },
  {
   "cell_type": "code",
   "execution_count": null,
   "id": "59443b4a",
   "metadata": {},
   "outputs": [],
   "source": [
    "#billboard data read in - all top perfomers\n",
    "topbillboard = pd.read_csv('../viz exports/all_top_performers_billboard.csv')\n",
    "topbillboard.week_of = pd.to_datetime(topbillboard.week_of)"
   ]
  },
  {
   "cell_type": "code",
   "execution_count": null,
   "id": "7392243e",
   "metadata": {},
   "outputs": [],
   "source": [
    "spotify_update_count = topspotify[[\"key\", \"week_of\",\"modified_at\"]]"
   ]
  },
  {
   "cell_type": "code",
   "execution_count": null,
   "id": "6462e87a",
   "metadata": {},
   "outputs": [],
   "source": [
    "spotify_update_count = pd.DataFrame(spotify_update_count.groupby([\"key\", \"week_of\"])[[\"modified_at\"]].count().reset_index())"
   ]
  },
  {
   "cell_type": "code",
   "execution_count": null,
   "id": "a72f5427",
   "metadata": {},
   "outputs": [],
   "source": [
    "spotify_update_count.to_csv('../viz exports/spotify_updates_by_week.csv', index=False)"
   ]
  },
  {
   "cell_type": "code",
   "execution_count": null,
   "id": "150244a6",
   "metadata": {},
   "outputs": [],
   "source": [
    "#ad hoc analysis q: playlists with most followers\n",
    "topspotify[['name', 'num_followers']].sort_values('num_followers', ascending=False)"
   ]
  },
  {
   "cell_type": "code",
   "execution_count": null,
   "id": "c3dec384",
   "metadata": {},
   "outputs": [],
   "source": []
  }
 ],
 "metadata": {
  "kernelspec": {
   "display_name": "Python 3 (ipykernel)",
   "language": "python",
   "name": "python3"
  },
  "language_info": {
   "codemirror_mode": {
    "name": "ipython",
    "version": 3
   },
   "file_extension": ".py",
   "mimetype": "text/x-python",
   "name": "python",
   "nbconvert_exporter": "python",
   "pygments_lexer": "ipython3",
   "version": "3.11.7"
  }
 },
 "nbformat": 4,
 "nbformat_minor": 5
}
