{
 "cells": [
  {
   "cell_type": "markdown",
   "id": "fea49ea1",
   "metadata": {},
   "source": [
    "ANALYSIS </br>\n",
    "Bilboard Exploration: </br>\n",
    "1. How many songs reached the number 1 position during the sample period </br>\n",
    "   Will looking at only #1 songs be useful for analysis, or should we look at songs that entered the top 5/10? </br>\n",
    "2. How many weeks did each of those songs appear on the charts? </br>\n",
    "\n",
    "Spoitfy Exploration </br>\n",
    "1. Of 1,000,000 playlists, how many were updated three or fewer times? </br>\n",
    "\n",
    "Preparation: </br>\n",
    "1. Artist Name, Track Title of all #1 songs </br>\n",
    "2. Match Artist Names and Track Titles to Spotify IDs </br>\n",
    "3. Iterate over Spotify data to identify playlists that have one or more #1 tracks in the playlist </br>\n",
    "4. Isolate relevant song lines and write to a new Spotify dataframe/file </br>\n",
    "5. Of x playlists with 3 or fewer edits, how many had a Billboard Charting song on it? </br>"
   ]
  },
  {
   "cell_type": "code",
   "execution_count": 67,
   "id": "bb881a72",
   "metadata": {},
   "outputs": [],
   "source": [
    "import json\n",
    "import pandas as pd\n",
    "import os\n",
    "import numpy as np"
   ]
  },
  {
   "cell_type": "markdown",
   "id": "443861a0",
   "metadata": {},
   "source": [
    "### Billboard Exploration"
   ]
  },
  {
   "cell_type": "code",
   "execution_count": 9,
   "id": "e2c491b5",
   "metadata": {},
   "outputs": [],
   "source": [
    "# How many songs reached the number 1 position during the sample period\n",
    "# Will looking at only #1 songs be useful for analysis, or should we look at songs that entered the top 5/10? all?\n",
    "\n",
    "billboard = pd.read_csv('../data/Billboard/billboard_chart_data.csv')"
   ]
  },
  {
   "cell_type": "code",
   "execution_count": 12,
   "id": "1fe8ea1f",
   "metadata": {},
   "outputs": [
    {
     "data": {
      "text/plain": [
       "Index(['Unnamed: 0', 'week_of', 'rank_current_week', 'title', 'artist',\n",
       "       'rank_prior_week', 'peak_pos', 'weeks_on_chart'],\n",
       "      dtype='object')"
      ]
     },
     "execution_count": 12,
     "metadata": {},
     "output_type": "execute_result"
    }
   ],
   "source": [
    "billboard.columns"
   ]
  },
  {
   "cell_type": "code",
   "execution_count": 60,
   "id": "7d65cc0e",
   "metadata": {},
   "outputs": [
    {
     "name": "stdout",
     "output_type": "stream",
     "text": [
      "<class 'pandas.core.frame.DataFrame'>\n",
      "RangeIndex: 36500 entries, 0 to 36499\n",
      "Data columns (total 9 columns):\n",
      " #   Column             Non-Null Count  Dtype \n",
      "---  ------             --------------  ----- \n",
      " 0   Unnamed: 0         36500 non-null  int64 \n",
      " 1   week_of            36500 non-null  object\n",
      " 2   rank_current_week  36500 non-null  int64 \n",
      " 3   title              36500 non-null  object\n",
      " 4   artist             36500 non-null  object\n",
      " 5   rank_prior_week    36500 non-null  object\n",
      " 6   peak_pos           36500 non-null  int64 \n",
      " 7   weeks_on_chart     36500 non-null  int64 \n",
      " 8   artist_title       36500 non-null  object\n",
      "dtypes: int64(4), object(5)\n",
      "memory usage: 2.5+ MB\n"
     ]
    }
   ],
   "source": [
    "billboard.info()"
   ]
  },
  {
   "cell_type": "code",
   "execution_count": 17,
   "id": "05f66c0d",
   "metadata": {},
   "outputs": [],
   "source": [
    "billboard['artist_title'] = billboard.artist+ '-' + billboard.title"
   ]
  },
  {
   "cell_type": "code",
   "execution_count": 20,
   "id": "c8cc7f29",
   "metadata": {
    "scrolled": true
   },
   "outputs": [
    {
     "data": {
      "text/plain": [
       "3003"
      ]
     },
     "execution_count": 20,
     "metadata": {},
     "output_type": "execute_result"
    }
   ],
   "source": [
    "# total number of songs that entered the billboard top 100 during the sample period\n",
    "billboard.artist_title.nunique()"
   ]
  },
  {
   "cell_type": "code",
   "execution_count": 21,
   "id": "d2813210",
   "metadata": {},
   "outputs": [
    {
     "data": {
      "text/plain": [
       "94"
      ]
     },
     "execution_count": 21,
     "metadata": {},
     "output_type": "execute_result"
    }
   ],
   "source": [
    "# all songs that reached the number 1 position during the sample period\n",
    "no1 = billboard[billboard.peak_pos == 1]\n",
    "no1.artist_title.nunique()"
   ]
  },
  {
   "cell_type": "code",
   "execution_count": 23,
   "id": "cb56f04c",
   "metadata": {},
   "outputs": [
    {
     "data": {
      "text/plain": [
       "236"
      ]
     },
     "execution_count": 23,
     "metadata": {},
     "output_type": "execute_result"
    }
   ],
   "source": [
    "# all songs that reached at least the number 5 position during the sample period\n",
    "top5 = billboard[billboard.peak_pos <= 5]\n",
    "top5.artist_title.nunique()"
   ]
  },
  {
   "cell_type": "code",
   "execution_count": 24,
   "id": "b43c7e0f",
   "metadata": {},
   "outputs": [
    {
     "data": {
      "text/plain": [
       "394"
      ]
     },
     "execution_count": 24,
     "metadata": {},
     "output_type": "execute_result"
    }
   ],
   "source": [
    "# all songs that reached at least the number 10 position during the sample period\n",
    "top10 = billboard[billboard.peak_pos <= 10]\n",
    "top10.artist_title.nunique()"
   ]
  },
  {
   "cell_type": "code",
   "execution_count": 49,
   "id": "c49550ba",
   "metadata": {},
   "outputs": [
    {
     "data": {
      "text/html": [
       "<div>\n",
       "<style scoped>\n",
       "    .dataframe tbody tr th:only-of-type {\n",
       "        vertical-align: middle;\n",
       "    }\n",
       "\n",
       "    .dataframe tbody tr th {\n",
       "        vertical-align: top;\n",
       "    }\n",
       "\n",
       "    .dataframe thead th {\n",
       "        text-align: right;\n",
       "    }\n",
       "</style>\n",
       "<table border=\"1\" class=\"dataframe\">\n",
       "  <thead>\n",
       "    <tr style=\"text-align: right;\">\n",
       "      <th></th>\n",
       "      <th>count</th>\n",
       "    </tr>\n",
       "    <tr>\n",
       "      <th>artist_title</th>\n",
       "      <th></th>\n",
       "    </tr>\n",
       "  </thead>\n",
       "  <tbody>\n",
       "    <tr>\n",
       "      <th>Imagine Dragons-Radioactive</th>\n",
       "      <td>87</td>\n",
       "    </tr>\n",
       "    <tr>\n",
       "      <th>AWOLNATION-Sail</th>\n",
       "      <td>79</td>\n",
       "    </tr>\n",
       "    <tr>\n",
       "      <th>OneRepublic-Counting Stars</th>\n",
       "      <td>68</td>\n",
       "    </tr>\n",
       "    <tr>\n",
       "      <th>LMFAO Featuring Lauren Bennett &amp; GoonRock-Party Rock Anthem</th>\n",
       "      <td>68</td>\n",
       "    </tr>\n",
       "    <tr>\n",
       "      <th>Adele-Rolling In The Deep</th>\n",
       "      <td>65</td>\n",
       "    </tr>\n",
       "    <tr>\n",
       "      <th>The Lumineers-Ho Hey</th>\n",
       "      <td>62</td>\n",
       "    </tr>\n",
       "    <tr>\n",
       "      <th>Imagine Dragons-Demons</th>\n",
       "      <td>61</td>\n",
       "    </tr>\n",
       "    <tr>\n",
       "      <th>Gotye Featuring Kimbra-Somebody That I Used To Know</th>\n",
       "      <td>59</td>\n",
       "    </tr>\n",
       "    <tr>\n",
       "      <th>John Legend-All Of Me</th>\n",
       "      <td>59</td>\n",
       "    </tr>\n",
       "    <tr>\n",
       "      <th>Ed Sheeran-Thinking Out Loud</th>\n",
       "      <td>58</td>\n",
       "    </tr>\n",
       "  </tbody>\n",
       "</table>\n",
       "</div>"
      ],
      "text/plain": [
       "                                                    count\n",
       "artist_title                                             \n",
       "Imagine Dragons-Radioactive                            87\n",
       "AWOLNATION-Sail                                        79\n",
       "OneRepublic-Counting Stars                             68\n",
       "LMFAO Featuring Lauren Bennett & GoonRock-Party...     68\n",
       "Adele-Rolling In The Deep                              65\n",
       "The Lumineers-Ho Hey                                   62\n",
       "Imagine Dragons-Demons                                 61\n",
       "Gotye Featuring Kimbra-Somebody That I Used To ...     59\n",
       "John Legend-All Of Me                                  59\n",
       "Ed Sheeran-Thinking Out Loud                           58"
      ]
     },
     "execution_count": 49,
     "metadata": {},
     "output_type": "execute_result"
    }
   ],
   "source": [
    "#How many weeks did each of those songs appear on the charts?\n",
    "week_counts = pd.DataFrame(billboard.groupby('artist_title')['artist_title'].value_counts())\n",
    "week_counts.sort_values('count', ascending=False).head(10)"
   ]
  },
  {
   "cell_type": "markdown",
   "id": "2a954357",
   "metadata": {},
   "source": [
    "### Spotify Exploration"
   ]
  },
  {
   "cell_type": "code",
   "execution_count": 74,
   "id": "6de3e24e",
   "metadata": {},
   "outputs": [],
   "source": [
    "#Of 1,000,000 playlists, how many were updated three or fewer times? "
   ]
  },
  {
   "cell_type": "code",
   "execution_count": 75,
   "id": "2a315050",
   "metadata": {},
   "outputs": [],
   "source": [
    "#file names - create list of flie strings to leverage in loops\n",
    "file_list = []                                                    #empty list for strings to land\n",
    "for file in os.listdir('..\\data\\Spotify\\data'):                   #for loop to locate each file in source folder\n",
    "    file_name = '..\\\\data\\\\Spotify\\\\data\\\\' + os.fsdecode(file)   #create a file string name to be read in\n",
    "    file_list.append(file_name)                                   #add name to list\n",
    "#file_list                                                         #print resulting list"
   ]
  },
  {
   "cell_type": "code",
   "execution_count": 76,
   "id": "c511b69a",
   "metadata": {},
   "outputs": [],
   "source": [
    "# get playlist IDs where the playlists were updated three or fewer times\n",
    "pid_list = []\n",
    "for file in file_list: #for loop to iterate through files\n",
    "    with open(file) as data_file:\n",
    "        d = json.load(data_file)\n",
    "        playlists = pd.json_normalize(d['playlists'])\n",
    "        edit_reqs = playlists[playlists.num_edits <= 3]\n",
    "        pid_list.append(edit_reqs.pid.unique())"
   ]
  },
  {
   "cell_type": "code",
   "execution_count": 77,
   "id": "ad5eb19e",
   "metadata": {},
   "outputs": [],
   "source": [
    "#list of pid arrays to single list of pids\n",
    "pid_list = np.concatenate(pid_list).ravel().tolist()\n"
   ]
  },
  {
   "cell_type": "code",
   "execution_count": 80,
   "id": "18b0cbba",
   "metadata": {},
   "outputs": [
    {
     "data": {
      "text/plain": [
       "174083"
      ]
     },
     "execution_count": 80,
     "metadata": {},
     "output_type": "execute_result"
    }
   ],
   "source": [
    "#count of playlists with three or fewer edits\n",
    "len(pid_list)"
   ]
  },
  {
   "cell_type": "code",
   "execution_count": 86,
   "id": "c9693d66",
   "metadata": {},
   "outputs": [
    {
     "data": {
      "text/plain": [
       "17.41"
      ]
     },
     "execution_count": 86,
     "metadata": {},
     "output_type": "execute_result"
    }
   ],
   "source": [
    "#percent of playlists from Spotify's million dataset\n",
    "round(len(pid_list) / 1000000 * 100,2)"
   ]
  },
  {
   "cell_type": "code",
   "execution_count": null,
   "id": "b06173d7",
   "metadata": {},
   "outputs": [],
   "source": []
  },
  {
   "cell_type": "code",
   "execution_count": null,
   "id": "26bf61d5",
   "metadata": {},
   "outputs": [],
   "source": []
  },
  {
   "cell_type": "code",
   "execution_count": null,
   "id": "33971d75",
   "metadata": {},
   "outputs": [],
   "source": []
  },
  {
   "cell_type": "code",
   "execution_count": null,
   "id": "88bbac9b",
   "metadata": {},
   "outputs": [],
   "source": []
  },
  {
   "cell_type": "code",
   "execution_count": null,
   "id": "9bd89b5c",
   "metadata": {},
   "outputs": [],
   "source": []
  },
  {
   "cell_type": "markdown",
   "id": "791df781",
   "metadata": {},
   "source": [
    "### Preparation"
   ]
  },
  {
   "cell_type": "code",
   "execution_count": 142,
   "id": "977af569",
   "metadata": {},
   "outputs": [],
   "source": [
    "# Artist Name, Track Title of all #1 songs\n",
    "no1_df = no1[['artist','title']].drop_duplicates().reset_index(drop=True)\n",
    "no1_df\n",
    "\n",
    "no1_artist_list = no1_df.artist.tolist()\n",
    "no1_track_list = no1_df.title.tolist()"
   ]
  },
  {
   "cell_type": "code",
   "execution_count": 143,
   "id": "6c6a1730",
   "metadata": {},
   "outputs": [
    {
     "data": {
      "text/plain": [
       "['TiK ToK',\n",
       " 'Fireflies',\n",
       " 'Empire State Of Mind',\n",
       " 'Whatcha Say',\n",
       " 'Down',\n",
       " '3',\n",
       " 'I Gotta Feeling',\n",
       " 'Imma Be',\n",
       " 'Break Your Heart',\n",
       " 'Rude Boy',\n",
       " \"Nothin' On You\",\n",
       " 'OMG',\n",
       " 'Not Afraid',\n",
       " 'California Gurls',\n",
       " 'Love The Way You Lie',\n",
       " 'Teenage Dream',\n",
       " 'Just The Way You Are',\n",
       " 'Like A G6',\n",
       " 'We R Who We R',\n",
       " \"What's My Name?\",\n",
       " 'Only Girl (In The World)',\n",
       " 'Raise Your Glass',\n",
       " 'Firework',\n",
       " 'Grenade',\n",
       " 'Hold It Against Me',\n",
       " 'Black And Yellow',\n",
       " 'Born This Way',\n",
       " 'E.T.',\n",
       " 'S&M',\n",
       " 'Rolling In The Deep',\n",
       " 'Give Me Everything',\n",
       " 'Party Rock Anthem',\n",
       " 'Last Friday Night (T.G.I.F.)',\n",
       " 'Moves Like Jagger',\n",
       " 'Someone Like You',\n",
       " 'We Found Love',\n",
       " 'Sexy And I Know It',\n",
       " 'Set Fire To The Rain',\n",
       " \"Stronger (What Doesn't Kill You)\",\n",
       " 'I Will Always Love You',\n",
       " 'I Wanna Dance With Somebody (Who Loves Me)',\n",
       " 'Greatest Love Of All',\n",
       " 'Part Of Me',\n",
       " 'How Will I Know',\n",
       " 'We Are Young',\n",
       " 'Somebody That I Used To Know',\n",
       " 'Call Me Maybe',\n",
       " 'Whistle',\n",
       " 'We Are Never Ever Getting Back Together',\n",
       " 'One More Night',\n",
       " 'Diamonds',\n",
       " 'Locked Out Of Heaven',\n",
       " 'Thrift Shop',\n",
       " 'Harlem Shake',\n",
       " 'When I Was Your Man',\n",
       " 'Just Give Me A Reason',\n",
       " \"Can't Hold Us\",\n",
       " 'Blurred Lines',\n",
       " 'Roar',\n",
       " 'Wrecking Ball',\n",
       " 'Royals',\n",
       " \"Livin' On A Prayer\",\n",
       " 'The Monster',\n",
       " 'Timber',\n",
       " 'Dark Horse',\n",
       " 'Happy',\n",
       " 'All Of Me',\n",
       " 'Fancy',\n",
       " 'Billie Jean',\n",
       " 'Rude',\n",
       " 'Shake It Off',\n",
       " 'All About That Bass',\n",
       " 'Blank Space',\n",
       " 'Uptown Funk!',\n",
       " 'See You Again',\n",
       " 'Bad Blood',\n",
       " 'Cheerleader',\n",
       " \"Can't Feel My Face\",\n",
       " 'What Do You Mean?',\n",
       " 'The Hills',\n",
       " 'Hello',\n",
       " 'Sorry',\n",
       " 'Love Yourself',\n",
       " 'Pillowtalk',\n",
       " 'Work',\n",
       " 'Panda',\n",
       " 'When Doves Cry',\n",
       " 'Kiss',\n",
       " \"Let's Go Crazy\",\n",
       " 'One Dance',\n",
       " \"Can't Stop The Feeling!\",\n",
       " 'Cheap Thrills',\n",
       " 'Closer',\n",
       " 'Black Beatles']"
      ]
     },
     "execution_count": 143,
     "metadata": {},
     "output_type": "execute_result"
    }
   ],
   "source": [
    "no1_track_list"
   ]
  },
  {
   "cell_type": "code",
   "execution_count": 144,
   "id": "6788a3f9",
   "metadata": {},
   "outputs": [],
   "source": [
    "top_song_playlists = pd.DataFrame()"
   ]
  },
  {
   "cell_type": "code",
   "execution_count": 151,
   "id": "e24a2134",
   "metadata": {},
   "outputs": [
    {
     "ename": "ValueError",
     "evalue": "The truth value of a Series is ambiguous. Use a.empty, a.bool(), a.item(), a.any() or a.all().",
     "output_type": "error",
     "traceback": [
      "\u001b[1;31m---------------------------------------------------------------------------\u001b[0m",
      "\u001b[1;31mValueError\u001b[0m                                Traceback (most recent call last)",
      "\u001b[1;32m~\\AppData\\Local\\Temp\\ipykernel_57996\\3905564552.py\u001b[0m in \u001b[0;36m?\u001b[1;34m()\u001b[0m\n\u001b[0;32m      3\u001b[0m \u001b[1;32mfor\u001b[0m \u001b[0mfile\u001b[0m \u001b[1;32min\u001b[0m \u001b[0mfile_list\u001b[0m\u001b[1;33m:\u001b[0m \u001b[1;31m#for loop to iterate through files\u001b[0m\u001b[1;33m\u001b[0m\u001b[1;33m\u001b[0m\u001b[0m\n\u001b[0;32m      4\u001b[0m     \u001b[1;32mwith\u001b[0m \u001b[0mopen\u001b[0m\u001b[1;33m(\u001b[0m\u001b[0mfile\u001b[0m\u001b[1;33m)\u001b[0m \u001b[1;32mas\u001b[0m \u001b[0mdata_file\u001b[0m\u001b[1;33m:\u001b[0m\u001b[1;33m\u001b[0m\u001b[1;33m\u001b[0m\u001b[0m\n\u001b[0;32m      5\u001b[0m         \u001b[0md\u001b[0m \u001b[1;33m=\u001b[0m \u001b[0mjson\u001b[0m\u001b[1;33m.\u001b[0m\u001b[0mload\u001b[0m\u001b[1;33m(\u001b[0m\u001b[0mdata_file\u001b[0m\u001b[1;33m)\u001b[0m\u001b[1;33m\u001b[0m\u001b[1;33m\u001b[0m\u001b[0m\n\u001b[0;32m      6\u001b[0m         \u001b[0mplaylists\u001b[0m \u001b[1;33m=\u001b[0m \u001b[0mpd\u001b[0m\u001b[1;33m.\u001b[0m\u001b[0mjson_normalize\u001b[0m\u001b[1;33m(\u001b[0m\u001b[0md\u001b[0m\u001b[1;33m[\u001b[0m\u001b[1;34m'playlists'\u001b[0m\u001b[1;33m]\u001b[0m\u001b[1;33m)\u001b[0m\u001b[1;33m\u001b[0m\u001b[1;33m\u001b[0m\u001b[0m\n\u001b[1;32m----> 7\u001b[1;33m         \u001b[1;32mwhile\u001b[0m \u001b[0mplaylists\u001b[0m\u001b[1;33m.\u001b[0m\u001b[0mpid\u001b[0m \u001b[1;32min\u001b[0m \u001b[0mpid_list\u001b[0m\u001b[1;33m:\u001b[0m\u001b[1;33m\u001b[0m\u001b[1;33m\u001b[0m\u001b[0m\n\u001b[0m\u001b[0;32m      8\u001b[0m             \u001b[0mtracks\u001b[0m \u001b[1;33m=\u001b[0m \u001b[0mpd\u001b[0m\u001b[1;33m.\u001b[0m\u001b[0mjson_normalize\u001b[0m\u001b[1;33m(\u001b[0m\u001b[0md\u001b[0m\u001b[1;33m,\u001b[0m \u001b[0mrecord_path\u001b[0m\u001b[1;33m=\u001b[0m\u001b[1;33m[\u001b[0m\u001b[1;34m'playlists'\u001b[0m\u001b[1;33m,\u001b[0m\u001b[1;34m'tracks'\u001b[0m\u001b[1;33m]\u001b[0m\u001b[1;33m,\u001b[0m\u001b[0mmeta\u001b[0m\u001b[1;33m=\u001b[0m\u001b[1;33m[\u001b[0m\u001b[1;33m[\u001b[0m\u001b[1;34m'playlists'\u001b[0m\u001b[1;33m,\u001b[0m\u001b[1;34m'pid'\u001b[0m\u001b[1;33m]\u001b[0m\u001b[1;33m]\u001b[0m\u001b[1;33m)\u001b[0m\u001b[1;33m\u001b[0m\u001b[1;33m\u001b[0m\u001b[0m\n\u001b[0;32m      9\u001b[0m             \u001b[1;32mwhile\u001b[0m \u001b[0mtracks\u001b[0m\u001b[1;33m.\u001b[0m\u001b[0mtitle\u001b[0m\u001b[1;33m.\u001b[0m\u001b[0mlower\u001b[0m\u001b[1;33m(\u001b[0m\u001b[1;33m)\u001b[0m \u001b[1;32min\u001b[0m \u001b[0mno1_track_list\u001b[0m\u001b[1;33m.\u001b[0m\u001b[0mlower\u001b[0m\u001b[1;33m(\u001b[0m\u001b[1;33m)\u001b[0m\u001b[1;33m:\u001b[0m\u001b[1;33m\u001b[0m\u001b[1;33m\u001b[0m\u001b[0m\n\u001b[0;32m     10\u001b[0m                 \u001b[0mplaylists\u001b[0m \u001b[1;33m=\u001b[0m \u001b[0mplaylists\u001b[0m\u001b[1;33m.\u001b[0m\u001b[0mexplode\u001b[0m\u001b[1;33m(\u001b[0m\u001b[1;34m'tracks'\u001b[0m\u001b[1;33m)\u001b[0m\u001b[1;33m\u001b[0m\u001b[1;33m\u001b[0m\u001b[0m\n",
      "\u001b[1;32m~\\anaconda3\\Lib\\site-packages\\pandas\\core\\generic.py\u001b[0m in \u001b[0;36m?\u001b[1;34m(self)\u001b[0m\n\u001b[0;32m   1517\u001b[0m     \u001b[1;33m@\u001b[0m\u001b[0mfinal\u001b[0m\u001b[1;33m\u001b[0m\u001b[1;33m\u001b[0m\u001b[0m\n\u001b[0;32m   1518\u001b[0m     \u001b[1;32mdef\u001b[0m \u001b[0m__nonzero__\u001b[0m\u001b[1;33m(\u001b[0m\u001b[0mself\u001b[0m\u001b[1;33m)\u001b[0m \u001b[1;33m->\u001b[0m \u001b[0mNoReturn\u001b[0m\u001b[1;33m:\u001b[0m\u001b[1;33m\u001b[0m\u001b[1;33m\u001b[0m\u001b[0m\n\u001b[1;32m-> 1519\u001b[1;33m         raise ValueError(\n\u001b[0m\u001b[0;32m   1520\u001b[0m             \u001b[1;34mf\"The truth value of a {type(self).__name__} is ambiguous. \"\u001b[0m\u001b[1;33m\u001b[0m\u001b[1;33m\u001b[0m\u001b[0m\n\u001b[0;32m   1521\u001b[0m             \u001b[1;34m\"Use a.empty, a.bool(), a.item(), a.any() or a.all().\"\u001b[0m\u001b[1;33m\u001b[0m\u001b[1;33m\u001b[0m\u001b[0m\n\u001b[0;32m   1522\u001b[0m         )\n",
      "\u001b[1;31mValueError\u001b[0m: The truth value of a Series is ambiguous. Use a.empty, a.bool(), a.item(), a.any() or a.all()."
     ]
    }
   ],
   "source": [
    "# Match Billboard Track Titles to Spotify IDs\n",
    "\n",
    "for file in file_list: #for loop to iterate through files\n",
    "    with open(file) as data_file:\n",
    "        d = json.load(data_file)\n",
    "        playlists = pd.json_normalize(d['playlists'])\n",
    "        while playlists.pid in pid_list:\n",
    "            tracks = pd.json_normalize(d, record_path=['playlists','tracks'],meta=[['playlists','pid']])\n",
    "            while tracks.title.lower() in no1_track_list.lower():\n",
    "                playlists = playlists.explode('tracks')\n",
    "                df = tracks.merge(playlists, how='right', left_on='playlists.pid', right_on='pid').reset_index()\n",
    "                df = df.drop(columns=['tracks','playlists.pid','description'])\n",
    "                top_song_playlists = pd.concat([top_song_playlists, df], index=False)\n",
    "            else:\n",
    "                pass\n",
    "        else:\n",
    "            pass"
   ]
  },
  {
   "cell_type": "code",
   "execution_count": 3,
   "id": "e322fda8",
   "metadata": {},
   "outputs": [],
   "source": [
    "# Iterate over Spotify data to identify playlists that have one or more #1 tracks in the playlist"
   ]
  },
  {
   "cell_type": "code",
   "execution_count": 4,
   "id": "2e173752",
   "metadata": {},
   "outputs": [],
   "source": [
    "# Isolate relevant song lines and write to a new Spotify dataframe/file"
   ]
  },
  {
   "cell_type": "code",
   "execution_count": 5,
   "id": "43ba372b",
   "metadata": {},
   "outputs": [],
   "source": [
    "# Of x playlists with 3 or fewer edits, how many had a Billboard Charting song on it?"
   ]
  },
  {
   "cell_type": "code",
   "execution_count": null,
   "id": "2a97688a",
   "metadata": {},
   "outputs": [],
   "source": []
  }
 ],
 "metadata": {
  "kernelspec": {
   "display_name": "Python 3 (ipykernel)",
   "language": "python",
   "name": "python3"
  },
  "language_info": {
   "codemirror_mode": {
    "name": "ipython",
    "version": 3
   },
   "file_extension": ".py",
   "mimetype": "text/x-python",
   "name": "python",
   "nbconvert_exporter": "python",
   "pygments_lexer": "ipython3",
   "version": "3.11.7"
  }
 },
 "nbformat": 4,
 "nbformat_minor": 5
}
