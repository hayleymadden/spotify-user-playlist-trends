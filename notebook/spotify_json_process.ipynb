{
 "cells": [
  {
   "cell_type": "code",
   "execution_count": 1,
   "id": "169e35de",
   "metadata": {},
   "outputs": [],
   "source": [
    "import json\n",
    "import pandas as pd\n",
    "import datetime as dt\n",
    "import os"
   ]
  },
  {
   "cell_type": "markdown",
   "id": "71d64cc0",
   "metadata": {},
   "source": [
    "#### Preparation: Load in Spotify Million Playlist dataset\n",
    "Data sourced from https://www.aicrowd.com/challenges/spotify-million-playlist-dataset-challenge#dataset </br>\n",
    "Uncomment cells in this section to source a working csv file"
   ]
  },
  {
   "cell_type": "code",
   "execution_count": 79,
   "id": "569a7145",
   "metadata": {},
   "outputs": [],
   "source": [
    "# #file names - create list of flie strings to leverage in loops\n",
    "# file_list = []\n",
    "# for file in os.listdir('..\\data\\Spotify\\data'):\n",
    "#     file_name = '..\\\\data\\\\Spotify\\\\data\\\\' + os.fsdecode(file)\n",
    "#     file_list.append(file_name)\n",
    "# # file_list"
   ]
  },
  {
   "cell_type": "code",
   "execution_count": 65,
   "id": "44b5344b",
   "metadata": {},
   "outputs": [],
   "source": [
    "# #establish empty df \n",
    "# spotify_data = pd.DataFrame() #columns = ['name', 'collaborative', 'pid', 'modified_at', 'num_tracks', 'num_albums', 'num_followers', 'tracks', 'num_edits','duration_ms', 'num_artists', 'description'])"
   ]
  },
  {
   "cell_type": "code",
   "execution_count": 66,
   "id": "12c0ba75",
   "metadata": {},
   "outputs": [],
   "source": [
    "# #read in data to a the dataset\n",
    " \n",
    "# for file in file_list: #for loop to iterate through files\n",
    "#     x = 0 # identifies the file in the file list, starting with first file (index 0)\n",
    "#     with open(file_list[x]) as data_file:\n",
    "#         d = json.load(data_file)\n",
    "#         df = pd.json_normalize(d['playlists'])\n",
    "#         df = df.explode('tracks')\n",
    "#         df = pd.DataFrame(df)\n",
    "#         df.modified_at = pd.to_datetime(df.modified_at, unit = 's')\n",
    "#         df = df[df.num_edits <= 3]\n",
    "#         spotify_data = pd.concat([spotify_data, df])\n",
    "#     x = x+1"
   ]
  },
  {
   "cell_type": "code",
   "execution_count": 80,
   "id": "4400ffef",
   "metadata": {
    "scrolled": true
   },
   "outputs": [
    {
     "ename": "KeyboardInterrupt",
     "evalue": "",
     "output_type": "error",
     "traceback": [
      "\u001b[1;31m---------------------------------------------------------------------------\u001b[0m",
      "\u001b[1;31mKeyboardInterrupt\u001b[0m                         Traceback (most recent call last)",
      "Cell \u001b[1;32mIn[80], line 1\u001b[0m\n\u001b[1;32m----> 1\u001b[0m spotify_data\u001b[38;5;241m.\u001b[39mto_csv(\u001b[38;5;124m'\u001b[39m\u001b[38;5;124mrelevant_playlists.csv\u001b[39m\u001b[38;5;124m'\u001b[39m)\n",
      "File \u001b[1;32m~\\anaconda3\\Lib\\site-packages\\pandas\\core\\generic.py:3902\u001b[0m, in \u001b[0;36mNDFrame.to_csv\u001b[1;34m(self, path_or_buf, sep, na_rep, float_format, columns, header, index, index_label, mode, encoding, compression, quoting, quotechar, lineterminator, chunksize, date_format, doublequote, escapechar, decimal, errors, storage_options)\u001b[0m\n\u001b[0;32m   3891\u001b[0m df \u001b[38;5;241m=\u001b[39m \u001b[38;5;28mself\u001b[39m \u001b[38;5;28;01mif\u001b[39;00m \u001b[38;5;28misinstance\u001b[39m(\u001b[38;5;28mself\u001b[39m, ABCDataFrame) \u001b[38;5;28;01melse\u001b[39;00m \u001b[38;5;28mself\u001b[39m\u001b[38;5;241m.\u001b[39mto_frame()\n\u001b[0;32m   3893\u001b[0m formatter \u001b[38;5;241m=\u001b[39m DataFrameFormatter(\n\u001b[0;32m   3894\u001b[0m     frame\u001b[38;5;241m=\u001b[39mdf,\n\u001b[0;32m   3895\u001b[0m     header\u001b[38;5;241m=\u001b[39mheader,\n\u001b[1;32m   (...)\u001b[0m\n\u001b[0;32m   3899\u001b[0m     decimal\u001b[38;5;241m=\u001b[39mdecimal,\n\u001b[0;32m   3900\u001b[0m )\n\u001b[1;32m-> 3902\u001b[0m \u001b[38;5;28;01mreturn\u001b[39;00m DataFrameRenderer(formatter)\u001b[38;5;241m.\u001b[39mto_csv(\n\u001b[0;32m   3903\u001b[0m     path_or_buf,\n\u001b[0;32m   3904\u001b[0m     lineterminator\u001b[38;5;241m=\u001b[39mlineterminator,\n\u001b[0;32m   3905\u001b[0m     sep\u001b[38;5;241m=\u001b[39msep,\n\u001b[0;32m   3906\u001b[0m     encoding\u001b[38;5;241m=\u001b[39mencoding,\n\u001b[0;32m   3907\u001b[0m     errors\u001b[38;5;241m=\u001b[39merrors,\n\u001b[0;32m   3908\u001b[0m     compression\u001b[38;5;241m=\u001b[39mcompression,\n\u001b[0;32m   3909\u001b[0m     quoting\u001b[38;5;241m=\u001b[39mquoting,\n\u001b[0;32m   3910\u001b[0m     columns\u001b[38;5;241m=\u001b[39mcolumns,\n\u001b[0;32m   3911\u001b[0m     index_label\u001b[38;5;241m=\u001b[39mindex_label,\n\u001b[0;32m   3912\u001b[0m     mode\u001b[38;5;241m=\u001b[39mmode,\n\u001b[0;32m   3913\u001b[0m     chunksize\u001b[38;5;241m=\u001b[39mchunksize,\n\u001b[0;32m   3914\u001b[0m     quotechar\u001b[38;5;241m=\u001b[39mquotechar,\n\u001b[0;32m   3915\u001b[0m     date_format\u001b[38;5;241m=\u001b[39mdate_format,\n\u001b[0;32m   3916\u001b[0m     doublequote\u001b[38;5;241m=\u001b[39mdoublequote,\n\u001b[0;32m   3917\u001b[0m     escapechar\u001b[38;5;241m=\u001b[39mescapechar,\n\u001b[0;32m   3918\u001b[0m     storage_options\u001b[38;5;241m=\u001b[39mstorage_options,\n\u001b[0;32m   3919\u001b[0m )\n",
      "File \u001b[1;32m~\\anaconda3\\Lib\\site-packages\\pandas\\io\\formats\\format.py:1152\u001b[0m, in \u001b[0;36mDataFrameRenderer.to_csv\u001b[1;34m(self, path_or_buf, encoding, sep, columns, index_label, mode, compression, quoting, quotechar, lineterminator, chunksize, date_format, doublequote, escapechar, errors, storage_options)\u001b[0m\n\u001b[0;32m   1131\u001b[0m     created_buffer \u001b[38;5;241m=\u001b[39m \u001b[38;5;28;01mFalse\u001b[39;00m\n\u001b[0;32m   1133\u001b[0m csv_formatter \u001b[38;5;241m=\u001b[39m CSVFormatter(\n\u001b[0;32m   1134\u001b[0m     path_or_buf\u001b[38;5;241m=\u001b[39mpath_or_buf,\n\u001b[0;32m   1135\u001b[0m     lineterminator\u001b[38;5;241m=\u001b[39mlineterminator,\n\u001b[1;32m   (...)\u001b[0m\n\u001b[0;32m   1150\u001b[0m     formatter\u001b[38;5;241m=\u001b[39m\u001b[38;5;28mself\u001b[39m\u001b[38;5;241m.\u001b[39mfmt,\n\u001b[0;32m   1151\u001b[0m )\n\u001b[1;32m-> 1152\u001b[0m csv_formatter\u001b[38;5;241m.\u001b[39msave()\n\u001b[0;32m   1154\u001b[0m \u001b[38;5;28;01mif\u001b[39;00m created_buffer:\n\u001b[0;32m   1155\u001b[0m     \u001b[38;5;28;01massert\u001b[39;00m \u001b[38;5;28misinstance\u001b[39m(path_or_buf, StringIO)\n",
      "File \u001b[1;32m~\\anaconda3\\Lib\\site-packages\\pandas\\io\\formats\\csvs.py:266\u001b[0m, in \u001b[0;36mCSVFormatter.save\u001b[1;34m(self)\u001b[0m\n\u001b[0;32m    247\u001b[0m \u001b[38;5;28;01mwith\u001b[39;00m get_handle(\n\u001b[0;32m    248\u001b[0m     \u001b[38;5;28mself\u001b[39m\u001b[38;5;241m.\u001b[39mfilepath_or_buffer,\n\u001b[0;32m    249\u001b[0m     \u001b[38;5;28mself\u001b[39m\u001b[38;5;241m.\u001b[39mmode,\n\u001b[1;32m   (...)\u001b[0m\n\u001b[0;32m    254\u001b[0m ) \u001b[38;5;28;01mas\u001b[39;00m handles:\n\u001b[0;32m    255\u001b[0m     \u001b[38;5;66;03m# Note: self.encoding is irrelevant here\u001b[39;00m\n\u001b[0;32m    256\u001b[0m     \u001b[38;5;28mself\u001b[39m\u001b[38;5;241m.\u001b[39mwriter \u001b[38;5;241m=\u001b[39m csvlib\u001b[38;5;241m.\u001b[39mwriter(\n\u001b[0;32m    257\u001b[0m         handles\u001b[38;5;241m.\u001b[39mhandle,\n\u001b[0;32m    258\u001b[0m         lineterminator\u001b[38;5;241m=\u001b[39m\u001b[38;5;28mself\u001b[39m\u001b[38;5;241m.\u001b[39mlineterminator,\n\u001b[1;32m   (...)\u001b[0m\n\u001b[0;32m    263\u001b[0m         quotechar\u001b[38;5;241m=\u001b[39m\u001b[38;5;28mself\u001b[39m\u001b[38;5;241m.\u001b[39mquotechar,\n\u001b[0;32m    264\u001b[0m     )\n\u001b[1;32m--> 266\u001b[0m     \u001b[38;5;28mself\u001b[39m\u001b[38;5;241m.\u001b[39m_save()\n",
      "File \u001b[1;32m~\\anaconda3\\Lib\\site-packages\\pandas\\io\\formats\\csvs.py:271\u001b[0m, in \u001b[0;36mCSVFormatter._save\u001b[1;34m(self)\u001b[0m\n\u001b[0;32m    269\u001b[0m \u001b[38;5;28;01mif\u001b[39;00m \u001b[38;5;28mself\u001b[39m\u001b[38;5;241m.\u001b[39m_need_to_save_header:\n\u001b[0;32m    270\u001b[0m     \u001b[38;5;28mself\u001b[39m\u001b[38;5;241m.\u001b[39m_save_header()\n\u001b[1;32m--> 271\u001b[0m \u001b[38;5;28mself\u001b[39m\u001b[38;5;241m.\u001b[39m_save_body()\n",
      "File \u001b[1;32m~\\anaconda3\\Lib\\site-packages\\pandas\\io\\formats\\csvs.py:309\u001b[0m, in \u001b[0;36mCSVFormatter._save_body\u001b[1;34m(self)\u001b[0m\n\u001b[0;32m    307\u001b[0m \u001b[38;5;28;01mif\u001b[39;00m start_i \u001b[38;5;241m>\u001b[39m\u001b[38;5;241m=\u001b[39m end_i:\n\u001b[0;32m    308\u001b[0m     \u001b[38;5;28;01mbreak\u001b[39;00m\n\u001b[1;32m--> 309\u001b[0m \u001b[38;5;28mself\u001b[39m\u001b[38;5;241m.\u001b[39m_save_chunk(start_i, end_i)\n",
      "File \u001b[1;32m~\\anaconda3\\Lib\\site-packages\\pandas\\io\\formats\\csvs.py:320\u001b[0m, in \u001b[0;36mCSVFormatter._save_chunk\u001b[1;34m(self, start_i, end_i)\u001b[0m\n\u001b[0;32m    317\u001b[0m data \u001b[38;5;241m=\u001b[39m [res\u001b[38;5;241m.\u001b[39miget_values(i) \u001b[38;5;28;01mfor\u001b[39;00m i \u001b[38;5;129;01min\u001b[39;00m \u001b[38;5;28mrange\u001b[39m(\u001b[38;5;28mlen\u001b[39m(res\u001b[38;5;241m.\u001b[39mitems))]\n\u001b[0;32m    319\u001b[0m ix \u001b[38;5;241m=\u001b[39m \u001b[38;5;28mself\u001b[39m\u001b[38;5;241m.\u001b[39mdata_index[slicer]\u001b[38;5;241m.\u001b[39m_format_native_types(\u001b[38;5;241m*\u001b[39m\u001b[38;5;241m*\u001b[39m\u001b[38;5;28mself\u001b[39m\u001b[38;5;241m.\u001b[39m_number_format)\n\u001b[1;32m--> 320\u001b[0m libwriters\u001b[38;5;241m.\u001b[39mwrite_csv_rows(\n\u001b[0;32m    321\u001b[0m     data,\n\u001b[0;32m    322\u001b[0m     ix,\n\u001b[0;32m    323\u001b[0m     \u001b[38;5;28mself\u001b[39m\u001b[38;5;241m.\u001b[39mnlevels,\n\u001b[0;32m    324\u001b[0m     \u001b[38;5;28mself\u001b[39m\u001b[38;5;241m.\u001b[39mcols,\n\u001b[0;32m    325\u001b[0m     \u001b[38;5;28mself\u001b[39m\u001b[38;5;241m.\u001b[39mwriter,\n\u001b[0;32m    326\u001b[0m )\n",
      "File \u001b[1;32mwriters.pyx:55\u001b[0m, in \u001b[0;36mpandas._libs.writers.write_csv_rows\u001b[1;34m()\u001b[0m\n",
      "\u001b[1;31mKeyboardInterrupt\u001b[0m: "
     ]
    }
   ],
   "source": [
    "# #save the cleaned dataframe as a csv\n",
    "# spotify_data.to_csv('..\\data\\Spotify\\relevant_playlists.csv')"
   ]
  },
  {
   "cell_type": "code",
   "execution_count": 82,
   "id": "827c13a1",
   "metadata": {},
   "outputs": [],
   "source": [
    "spotify_working = pd.read_csv(r'..\\data\\Spotify\\relevant_playlists.csv')"
   ]
  },
  {
   "cell_type": "code",
   "execution_count": 101,
   "id": "6e277dbb",
   "metadata": {},
   "outputs": [
    {
     "name": "stdout",
     "output_type": "stream",
     "text": [
      "<class 'pandas.core.frame.DataFrame'>\n",
      "RangeIndex: 603295 entries, 0 to 603294\n",
      "Data columns (total 13 columns):\n",
      " #   Column         Non-Null Count   Dtype \n",
      "---  ------         --------------   ----- \n",
      " 0   Unnamed: 0     603295 non-null  int64 \n",
      " 1   name           603295 non-null  object\n",
      " 2   collaborative  603295 non-null  bool  \n",
      " 3   pid            603295 non-null  int64 \n",
      " 4   modified_at    603295 non-null  object\n",
      " 5   num_tracks     603295 non-null  int64 \n",
      " 6   num_albums     603295 non-null  int64 \n",
      " 7   num_followers  603295 non-null  int64 \n",
      " 8   tracks         603295 non-null  object\n",
      " 9   num_edits      603295 non-null  int64 \n",
      " 10  duration_ms    603295 non-null  int64 \n",
      " 11  num_artists    603295 non-null  int64 \n",
      " 12  description    10324 non-null   object\n",
      "dtypes: bool(1), int64(8), object(4)\n",
      "memory usage: 55.8+ MB\n"
     ]
    }
   ],
   "source": [
    "spotify_working.info()"
   ]
  },
  {
   "cell_type": "code",
   "execution_count": 108,
   "id": "8ccb776e",
   "metadata": {},
   "outputs": [
    {
     "data": {
      "text/html": [
       "<div>\n",
       "<style scoped>\n",
       "    .dataframe tbody tr th:only-of-type {\n",
       "        vertical-align: middle;\n",
       "    }\n",
       "\n",
       "    .dataframe tbody tr th {\n",
       "        vertical-align: top;\n",
       "    }\n",
       "\n",
       "    .dataframe thead th {\n",
       "        text-align: right;\n",
       "    }\n",
       "</style>\n",
       "<table border=\"1\" class=\"dataframe\">\n",
       "  <thead>\n",
       "    <tr style=\"text-align: right;\">\n",
       "      <th></th>\n",
       "      <th>Unnamed: 0</th>\n",
       "      <th>name</th>\n",
       "      <th>collaborative</th>\n",
       "      <th>pid</th>\n",
       "      <th>modified_at</th>\n",
       "      <th>num_tracks</th>\n",
       "      <th>num_albums</th>\n",
       "      <th>num_followers</th>\n",
       "      <th>tracks</th>\n",
       "      <th>num_edits</th>\n",
       "      <th>duration_ms</th>\n",
       "      <th>num_artists</th>\n",
       "      <th>description</th>\n",
       "    </tr>\n",
       "  </thead>\n",
       "  <tbody>\n",
       "    <tr>\n",
       "      <th>0</th>\n",
       "      <td>5</td>\n",
       "      <td>Wedding</td>\n",
       "      <td>False</td>\n",
       "      <td>5</td>\n",
       "      <td>2015-05-07</td>\n",
       "      <td>80</td>\n",
       "      <td>71</td>\n",
       "      <td>1</td>\n",
       "      <td>{'pos': 0, 'artist_name': 'Cali Swag District'...</td>\n",
       "      <td>3</td>\n",
       "      <td>19156557</td>\n",
       "      <td>56</td>\n",
       "      <td>NaN</td>\n",
       "    </tr>\n",
       "    <tr>\n",
       "      <th>1</th>\n",
       "      <td>5</td>\n",
       "      <td>Wedding</td>\n",
       "      <td>False</td>\n",
       "      <td>5</td>\n",
       "      <td>2015-05-07</td>\n",
       "      <td>80</td>\n",
       "      <td>71</td>\n",
       "      <td>1</td>\n",
       "      <td>{'pos': 1, 'artist_name': 'Miley Cyrus', 'trac...</td>\n",
       "      <td>3</td>\n",
       "      <td>19156557</td>\n",
       "      <td>56</td>\n",
       "      <td>NaN</td>\n",
       "    </tr>\n",
       "    <tr>\n",
       "      <th>2</th>\n",
       "      <td>5</td>\n",
       "      <td>Wedding</td>\n",
       "      <td>False</td>\n",
       "      <td>5</td>\n",
       "      <td>2015-05-07</td>\n",
       "      <td>80</td>\n",
       "      <td>71</td>\n",
       "      <td>1</td>\n",
       "      <td>{'pos': 2, 'artist_name': 'LMFAO', 'track_uri'...</td>\n",
       "      <td>3</td>\n",
       "      <td>19156557</td>\n",
       "      <td>56</td>\n",
       "      <td>NaN</td>\n",
       "    </tr>\n",
       "    <tr>\n",
       "      <th>3</th>\n",
       "      <td>5</td>\n",
       "      <td>Wedding</td>\n",
       "      <td>False</td>\n",
       "      <td>5</td>\n",
       "      <td>2015-05-07</td>\n",
       "      <td>80</td>\n",
       "      <td>71</td>\n",
       "      <td>1</td>\n",
       "      <td>{'pos': 3, 'artist_name': 'Vanilla Ice', 'trac...</td>\n",
       "      <td>3</td>\n",
       "      <td>19156557</td>\n",
       "      <td>56</td>\n",
       "      <td>NaN</td>\n",
       "    </tr>\n",
       "    <tr>\n",
       "      <th>4</th>\n",
       "      <td>5</td>\n",
       "      <td>Wedding</td>\n",
       "      <td>False</td>\n",
       "      <td>5</td>\n",
       "      <td>2015-05-07</td>\n",
       "      <td>80</td>\n",
       "      <td>71</td>\n",
       "      <td>1</td>\n",
       "      <td>{'pos': 4, 'artist_name': 'The Isley Brothers'...</td>\n",
       "      <td>3</td>\n",
       "      <td>19156557</td>\n",
       "      <td>56</td>\n",
       "      <td>NaN</td>\n",
       "    </tr>\n",
       "  </tbody>\n",
       "</table>\n",
       "</div>"
      ],
      "text/plain": [
       "   Unnamed: 0     name  collaborative  pid modified_at  num_tracks  \\\n",
       "0           5  Wedding          False    5  2015-05-07          80   \n",
       "1           5  Wedding          False    5  2015-05-07          80   \n",
       "2           5  Wedding          False    5  2015-05-07          80   \n",
       "3           5  Wedding          False    5  2015-05-07          80   \n",
       "4           5  Wedding          False    5  2015-05-07          80   \n",
       "\n",
       "   num_albums  num_followers  \\\n",
       "0          71              1   \n",
       "1          71              1   \n",
       "2          71              1   \n",
       "3          71              1   \n",
       "4          71              1   \n",
       "\n",
       "                                              tracks  num_edits  duration_ms  \\\n",
       "0  {'pos': 0, 'artist_name': 'Cali Swag District'...          3     19156557   \n",
       "1  {'pos': 1, 'artist_name': 'Miley Cyrus', 'trac...          3     19156557   \n",
       "2  {'pos': 2, 'artist_name': 'LMFAO', 'track_uri'...          3     19156557   \n",
       "3  {'pos': 3, 'artist_name': 'Vanilla Ice', 'trac...          3     19156557   \n",
       "4  {'pos': 4, 'artist_name': 'The Isley Brothers'...          3     19156557   \n",
       "\n",
       "   num_artists description  \n",
       "0           56         NaN  \n",
       "1           56         NaN  \n",
       "2           56         NaN  \n",
       "3           56         NaN  \n",
       "4           56         NaN  "
      ]
     },
     "execution_count": 108,
     "metadata": {},
     "output_type": "execute_result"
    }
   ],
   "source": [
    "spotify_working.head()"
   ]
  },
  {
   "cell_type": "code",
   "execution_count": 127,
   "id": "a4da15e3",
   "metadata": {},
   "outputs": [
    {
     "name": "stdout",
     "output_type": "stream",
     "text": [
      "<class 'pandas.core.frame.DataFrame'>\n",
      "RangeIndex: 603295 entries, 0 to 603294\n",
      "Data columns (total 13 columns):\n",
      " #   Column         Non-Null Count   Dtype \n",
      "---  ------         --------------   ----- \n",
      " 0   Unnamed: 0     603295 non-null  int64 \n",
      " 1   name           603295 non-null  object\n",
      " 2   collaborative  603295 non-null  bool  \n",
      " 3   pid            603295 non-null  int64 \n",
      " 4   modified_at    603295 non-null  object\n",
      " 5   num_tracks     603295 non-null  int64 \n",
      " 6   num_albums     603295 non-null  int64 \n",
      " 7   num_followers  603295 non-null  int64 \n",
      " 8   tracks         603295 non-null  object\n",
      " 9   num_edits      603295 non-null  int64 \n",
      " 10  duration_ms    603295 non-null  int64 \n",
      " 11  num_artists    603295 non-null  int64 \n",
      " 12  description    10324 non-null   object\n",
      "dtypes: bool(1), int64(8), object(4)\n",
      "memory usage: 55.8+ MB\n"
     ]
    }
   ],
   "source": [
    "spotify_working.info()"
   ]
  },
  {
   "cell_type": "code",
   "execution_count": 137,
   "id": "e8e04ae8",
   "metadata": {},
   "outputs": [],
   "source": [
    "#"
   ]
  },
  {
   "cell_type": "code",
   "execution_count": 129,
   "id": "8e6654ab",
   "metadata": {},
   "outputs": [
    {
     "data": {
      "text/html": [
       "<div>\n",
       "<style scoped>\n",
       "    .dataframe tbody tr th:only-of-type {\n",
       "        vertical-align: middle;\n",
       "    }\n",
       "\n",
       "    .dataframe tbody tr th {\n",
       "        vertical-align: top;\n",
       "    }\n",
       "\n",
       "    .dataframe thead th {\n",
       "        text-align: right;\n",
       "    }\n",
       "</style>\n",
       "<table border=\"1\" class=\"dataframe\">\n",
       "  <thead>\n",
       "    <tr style=\"text-align: right;\">\n",
       "      <th></th>\n",
       "    </tr>\n",
       "  </thead>\n",
       "  <tbody>\n",
       "    <tr>\n",
       "      <th>0</th>\n",
       "    </tr>\n",
       "    <tr>\n",
       "      <th>1</th>\n",
       "    </tr>\n",
       "    <tr>\n",
       "      <th>2</th>\n",
       "    </tr>\n",
       "    <tr>\n",
       "      <th>3</th>\n",
       "    </tr>\n",
       "    <tr>\n",
       "      <th>4</th>\n",
       "    </tr>\n",
       "    <tr>\n",
       "      <th>5</th>\n",
       "    </tr>\n",
       "    <tr>\n",
       "      <th>6</th>\n",
       "    </tr>\n",
       "    <tr>\n",
       "      <th>7</th>\n",
       "    </tr>\n",
       "    <tr>\n",
       "      <th>8</th>\n",
       "    </tr>\n",
       "    <tr>\n",
       "      <th>9</th>\n",
       "    </tr>\n",
       "    <tr>\n",
       "      <th>10</th>\n",
       "    </tr>\n",
       "    <tr>\n",
       "      <th>11</th>\n",
       "    </tr>\n",
       "    <tr>\n",
       "      <th>12</th>\n",
       "    </tr>\n",
       "  </tbody>\n",
       "</table>\n",
       "</div>"
      ],
      "text/plain": [
       "Empty DataFrame\n",
       "Columns: []\n",
       "Index: [0, 1, 2, 3, 4, 5, 6, 7, 8, 9, 10, 11, 12]"
      ]
     },
     "execution_count": 129,
     "metadata": {},
     "output_type": "execute_result"
    }
   ],
   "source": []
  },
  {
   "cell_type": "code",
   "execution_count": null,
   "id": "125ae874",
   "metadata": {},
   "outputs": [],
   "source": []
  }
 ],
 "metadata": {
  "kernelspec": {
   "display_name": "Python 3 (ipykernel)",
   "language": "python",
   "name": "python3"
  },
  "language_info": {
   "codemirror_mode": {
    "name": "ipython",
    "version": 3
   },
   "file_extension": ".py",
   "mimetype": "text/x-python",
   "name": "python",
   "nbconvert_exporter": "python",
   "pygments_lexer": "ipython3",
   "version": "3.11.7"
  }
 },
 "nbformat": 4,
 "nbformat_minor": 5
}
